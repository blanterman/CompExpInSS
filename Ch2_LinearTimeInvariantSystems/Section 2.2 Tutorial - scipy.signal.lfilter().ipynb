{
 "cells": [
  {
   "cell_type": "markdown",
   "metadata": {},
   "source": [
    "# Section 2.2 Tutorial - scipy.signal.lfilter()"
   ]
  },
  {
   "cell_type": "markdown",
   "metadata": {},
   "source": [
    "The scipy.signal.lfilter() function computes the output of a causal, LTI system for a given input when the system is specified by a linear constant-coefficient difference equation (See S&S 2nd Ed 2.4). Specifically, consider an LTI system satisfying the difference equation\n",
    "\n",
    "Equation (2.7):\n",
    "<center>$\\displaystyle\\sum_{k=0}^{K} a_ky[n-k] = \\displaystyle\\sum_{m=0}^{M} b_mx[n-m]$,</center>\n",
    "\n",
    "where $x[n]$ is the system input and $y[n]$ is the system output. If x is a numpy array containing the input $x[n]$ on the interval $n_x \\le n \\le n_x + N_x - 1$ and the arrays a and b contain the coefficients $a_k$ and $b_m$, then scipy.signal.lfilter(b,a,x) returns the output of the causal LTI system satisfying\n",
    "\n",
    "Equation (2.8):\n",
    "<center>$\\displaystyle\\sum_{k=0}^{K} a(k+1)y[n-k] = \\displaystyle\\sum_{m=0}^{M} b(m+1)x[n-m]$.</center>\n",
    "\n",
    "Note that $a(k+1)=a_k$ and $b(m+1) = b_m$, since scipy.signal.lfilter() requires that all vector indices begin at one. For example, to specify the system described by the difference equation $y[n] + 2y[n-1]=x[n] - 3x[n-1]$, you would define these vectors as a=[1, 2] and b=[1, -3].\n",
    "\n",
    "The output array y returned by scipy.signal.lfilter() contains sample of $y[n]$ on the same interval as the samples in x, i.e., $n_x \\le n \\le n_x+N_x-1$, so that both x and y contain $N_x$ samples. Note, however, that scipy.signal.lfilter() needs $x[n]$ for $n_x - M \\le n \\le n_x-1$ and $y[n]$ for $n_x - K \\le n \\le n_x - 1$ in order to compute the first output value $y[n_x]$. The function scipy.signal.lfilter() will default these values to zero if they are not given (see the scipy.signal.lfilter documentation)."
   ]
  },
  {
   "cell_type": "code",
   "execution_count": 36,
   "metadata": {},
   "outputs": [],
   "source": [
    "import numpy as np\n",
    "from scipy import signal\n",
    "from matplotlib import pyplot as plt"
   ]
  },
  {
   "cell_type": "markdown",
   "metadata": {},
   "source": [
    "### (a). \n",
    "Define coefficient vectors a1 and b1 to describe the causal LTI system specified by $y[n] = 0.5x[n] + x[n-1] +2x[n-2]$."
   ]
  },
  {
   "cell_type": "code",
   "execution_count": 37,
   "metadata": {},
   "outputs": [],
   "source": [
    "a1 = [1]\n",
    "b1 = [0.5, 1, 2]"
   ]
  },
  {
   "cell_type": "markdown",
   "metadata": {},
   "source": [
    "### (b).\n",
    "Define coefficient vecotrs a2 and b2 to describe the causal LTI system specified by $y[n] = 0.8y[n-1] +2x[n]$."
   ]
  },
  {
   "cell_type": "code",
   "execution_count": 38,
   "metadata": {},
   "outputs": [],
   "source": [
    "a2 = [1, -0.8]\n",
    "b2 = [2]"
   ]
  },
  {
   "cell_type": "markdown",
   "metadata": {},
   "source": [
    "### (c). \n",
    "Define coefficient vectors a3 and b3 to describe the causal LTI system specified by $y[n] - 0.8y[n-1] = 2x[n-1]$."
   ]
  },
  {
   "cell_type": "code",
   "execution_count": 39,
   "metadata": {},
   "outputs": [],
   "source": [
    "a3 = [1, -0.8]\n",
    "b3 = [0, 2]"
   ]
  },
  {
   "cell_type": "markdown",
   "metadata": {},
   "source": [
    "### (d).\n",
    "For each of these three systems, use scipy.signal.lfilter() to compute the response y[n] on the interval $1 \\le n \\le 4$ to the input signal $x[n] = nu[n]$. You should begin by defining the vector $x=[1,2,3,4]$, which contains x[n] on the interval $1 \\le n \\le 4$. The result of using scipy.signal.lfilter() for each system is shown below:\n",
    "\n",
    "\\>> x = [1,2,3,4] \n",
    "\n",
    "\\>> y1 = scipy.signal.lfilter(b1,a1,x)\n",
    "\n",
    "y1 = [0.5, 2.0, 5.5, 9.0]\n",
    "\n",
    "\\>> y2 = scipy.signal.lfilter(b2,a2,x)\n",
    "\n",
    "y2 = [2.0, 5.6, 10.48, 16.384]\n",
    "\n",
    "\\>> y3 = scipy.signal.lfilter(b3,a3,x)\n",
    "\n",
    "y3 = [0, 2.0, 5.6, 10.48]\n"
   ]
  },
  {
   "cell_type": "code",
   "execution_count": 40,
   "metadata": {},
   "outputs": [
    {
     "name": "stdout",
     "output_type": "stream",
     "text": [
      "y1 = [0.5 2.  5.5 9. ]\n",
      "y2 = [ 2.     5.6   10.48  16.384]\n",
      "y3 = [ 0.    2.    5.6  10.48]\n"
     ]
    }
   ],
   "source": [
    "x = [1, 2, 3, 4]\n",
    "y1 = signal.lfilter(b1, a1, x)\n",
    "print(\"y1 = {}\".format(y1))\n",
    "y2 = signal.lfilter(b2, a2, x)\n",
    "print(\"y2 = {}\".format(y2))\n",
    "y3 = signal.lfilter(b3, a3, x)\n",
    "print(\"y3 = {}\".format(y3))"
   ]
  },
  {
   "cell_type": "markdown",
   "metadata": {},
   "source": [
    "From $y1(1) = 0.5$, you can see that lfilter has set $x[0]$ and $x[-1]$ equal to zero, since both of these samples are needed to determine $y_1[1]$."
   ]
  },
  {
   "cell_type": "markdown",
   "metadata": {},
   "source": [
    "The function lfilter can also be used to perform discrete-time convolution. Consider the class of systems satisfying Eq.(2.7) when $a_k = \\delta[k]$. In this case, Eq. (2.7) becomes\n",
    "\n",
    "Equation (2.9)\n",
    "<center>$y[n] = \\displaystyle\\sum_{m=0}^{M} b_mx[n-m]$. </center>\n",
    "\n",
    "If we define the following finite-length signal\n",
    "\n",
    "<center>\n",
    "    $\n",
    "    b[m]=\n",
    "    \\begin{cases}\n",
    "    b_m,       & \\quad  0 \\le m \\le M, \\\\\n",
    "    0,         & \\quad  \\text{ otherwise}\n",
    "    \\end{cases}\n",
    "    $\n",
    "</center>\n",
    "\n",
    "then Eq. (2.9) can be rewritten as\n",
    "\n",
    "Equation (2.10)\n",
    "<center>$y[n] = \\displaystyle\\sum_{m=0}^M b[m]x[n-m]=\\displaystyle\\sum_{m=-\\infty}^{\\infty}b[m]x[n-m]$</center>\n",
    "\n",
    "Note the similarity between Equation 2.10 and the discrete time convolution sum - The filter give by Eq. (2.9) is a convolution. The signal $b[m]$ is the impulse response of the LTI system whch satisfies Eq. (2.9). Because $b[m]$ has finite length, such systems are called finite-length impulse response (FIR) filters.\n",
    "\n",
    "To illustrate how to use lfilter to implement a discrete-time confolution, consider the sonvolution of $x[n]$ in Eq. (2.5) with $h[n]$ in Eq. (2.6)."
   ]
  },
  {
   "cell_type": "markdown",
   "metadata": {},
   "source": [
    "### (e).\n",
    "Store $x[n]$ and $h[n]$ on the interval $0 \\le n \\le 5$ in the vectors $x$ and $h$"
   ]
  },
  {
   "cell_type": "code",
   "execution_count": 41,
   "metadata": {},
   "outputs": [
    {
     "name": "stdout",
     "output_type": "stream",
     "text": [
      "[0, 1, 2, 3, 4, 5]\n"
     ]
    }
   ],
   "source": [
    "nx = np.arange(0,6)\n",
    "# This is from equation 2.5 in section 2.1\n",
    "x = [1 for val in nx]\n",
    "# Equation 2.6 section 2.1\n",
    "h = [val for val in nx]\n",
    "print(h)"
   ]
  },
  {
   "cell_type": "markdown",
   "metadata": {},
   "source": [
    "### (f).\n",
    "To use lfilter, the impulse response $h[n]$ must be mapped to the coefficients of the difference equation in Eq. (2.9), i.e., $b_m = h[m]$ for $0 \\le n \\le 5$. In other words the difference equation coefficients are given by b=h and a=1. Use y=lfilter(h,1.0,x) to compute the output of this difference equation on the interval $0 \\le n \\le 5$, and set ny=[0,1,2,3,4,5]. Remember that lfilter returns a vector y with the same number of samples as x. Plot your results using plt.stem(ny,y). Your plot should agree with figure 2.4."
   ]
  },
  {
   "cell_type": "code",
   "execution_count": 42,
   "metadata": {},
   "outputs": [
    {
     "data": {
      "image/png": "[encoded data removed]",
      "text/plain": [
       "<Figure size 432x288 with 1 Axes>"
      ]
     },
     "metadata": {
      "needs_background": "light"
     },
     "output_type": "display_data"
    }
   ],
   "source": [
    "y = signal.lfilter(h,1.0,x)\n",
    "ny = np.arange(0,6)\n",
    "\n",
    "plt.stem(ny,y)\n",
    "plt.xlabel(\"n (samples)\")\n",
    "plt.ylabel(\"$x[n] * h[n]$\")\n",
    "plt.title(\"Convolution using lfilter() when x is only defined on n=[0:5]\")\n",
    "plt.show()"
   ]
  },
  {
   "cell_type": "markdown",
   "metadata": {},
   "source": [
    "If lfilter is to return the same result as conv(h,x), then the input to filter must contain 11 samples of x[n]. (Remember that conv returns a vector of length $N_x + N_h - 1$, where $N_x$ sit he length of x and $N_h$ is the length of h.)"
   ]
  },
  {
   "cell_type": "markdown",
   "metadata": {},
   "source": [
    "### (g).\n",
    "Define a vector x2 to contain $x[n]$ on the interval $0 \\le n \\le 10$, and use\n",
    "\n",
    "\\>> y2=signal.lfilter(h,1.0,x2);\n",
    "\n",
    "to compute the convolution on this interval. Plot your results using plt.stem([0,1,2,3,4,5,6,7,8,9,10],y2) and verify that your plot agrees with figure 2.2."
   ]
  },
  {
   "cell_type": "code",
   "execution_count": 43,
   "metadata": {},
   "outputs": [
    {
     "name": "stdout",
     "output_type": "stream",
     "text": [
      "[1, 1, 1, 1, 1, 1, 0, 0, 0, 0, 0]\n",
      "[0, 1, 2, 3, 4, 5]\n",
      "[ 0.  1.  3.  6. 10. 15. 15. 14. 12.  9.  5.]\n"
     ]
    },
    {
     "data": {
      "image/png": "[encoded data removed]",
      "text/plain": [
       "<Figure size 432x288 with 1 Axes>"
      ]
     },
     "metadata": {
      "needs_background": "light"
     },
     "output_type": "display_data"
    }
   ],
   "source": [
    "nx2 = np.arange(0,11)\n",
    "x2 = [1  if val <= 5 else 0 for val in nx2]\n",
    "print(x2)\n",
    "print(h)\n",
    "y2 = signal.lfilter(h,[1.0],x2)\n",
    "print(y2)\n",
    "\n",
    "plt.stem(nx2,y2)\n",
    "plt.xlabel(\"n (samples)\")\n",
    "plt.ylabel(\"$x[n] * h[n]$\")\n",
    "plt.title(\"Convolution using lfilter() when x is defined on n=[0:10]\")\n",
    "plt.show()"
   ]
  },
  {
   "cell_type": "markdown",
   "metadata": {},
   "source": [
    "Like np.conv, signal.lfilter can also be used to implement an LTI system which has a noncausal impulse response. Again, it is important to keep track of the indices of the input, impulse response, and output. To illustrate how, assume that $h[n]$ in Eq. (2.3) is replaced by $h[n+L]$ for some integer $L$. The convulution sum becomes\n",
    "\n",
    "<center>$y_2[n] = \\displaystyle\\sum_{m=-\\infty}^{\\infty} h[m+L]x[n-m]$, </center>\n",
    "\n",
    "which, upon substitution of $m' = m + L$, gives\n",
    "<center>\n",
    "$\n",
    "\\begin{align}\n",
    "y_2[n] & = \\displaystyle\\sum_{m'=-\\infty}^{\\infty} h[m']x[n-(m'- L)] \\\\\n",
    "& = \\displaystyle\\sum_{m'=-\\infty}^{\\infty} h[m']x[(n + L) - m'] \\\\\n",
    "& = y[n + L].\n",
    "\\end{align}\n",
    "$\n",
    "</center>\n",
    "\n",
    "In other words, an advance in the impulse response by $L$ samples merely advances the output by $L$ samples. For $L < 0$, this corresponds to a delay. Therefore, if $x$ contains $x[n]$ on the interval $0 \\le n \\le N_x - 1$ and $h$ contains $h[n]$ on the interval $-L \\le n \\le N_x - 1 - L$. Note that $y$ still has the same number of samples as $x$, only the samples represented by $y$ have advanced by $L$ samples."
   ]
  },
  {
   "cell_type": "markdown",
   "metadata": {},
   "source": [
    "### (h).\n",
    "\n",
    "Consider the impulse response $h_2[n] =  h[n+5]$, where $h[n]$ is defined in Eq. (2.6). Store $h_2[n]$ on the interval $-5 \\le n \\le 0$ in the vector $h2$."
   ]
  },
  {
   "cell_type": "code",
   "execution_count": 44,
   "metadata": {},
   "outputs": [
    {
     "name": "stdout",
     "output_type": "stream",
     "text": [
      "[0, 1, 2, 3, 4, 5]\n"
     ]
    }
   ],
   "source": [
    "nh2 = np.arange(-5,1)\n",
    "h2 = [0,1,2,3,4,5]\n",
    "print(h2)"
   ]
  },
  {
   "cell_type": "markdown",
   "metadata": {},
   "source": [
    "### (i).\n",
    "\n",
    "Execue the command y2 = lfilter(h2,1,x) and create a vector ny2 which contains indices of the samples of $y_2[n] = h_2[n] * x[n]$ stored in y2. Plot your result using plt.stem(ny2, y2). How does this plot compare with Figure 2.4?"
   ]
  },
  {
   "cell_type": "code",
   "execution_count": 45,
   "metadata": {
    "scrolled": true
   },
   "outputs": [
    {
     "name": "stdout",
     "output_type": "stream",
     "text": [
      "[ 0.  1.  3.  6. 10. 15.]\n"
     ]
    },
    {
     "data": {
      "image/png": "[encoded data removed]",
      "text/plain": [
       "<Figure size 432x288 with 1 Axes>"
      ]
     },
     "metadata": {
      "needs_background": "light"
     },
     "output_type": "display_data"
    }
   ],
   "source": [
    "y2 = signal.lfilter(h2,[1.0],x)\n",
    "print(y2)\n",
    "plt.stem(n,y2)\n",
    "plt.xlabel(\"n (samples)\")\n",
    "plt.ylabel(\"$x[n] * h_2[n]$\")\n",
    "plt.title(\"Convolution using lfilter() when h is advanced by 5 samples\")\n",
    "plt.show()"
   ]
  },
  {
   "cell_type": "markdown",
   "metadata": {},
   "source": [
    "### (j).\n",
    "\n",
    "Create a vector x2 such that lfilter(h2,[1.0],x2) returns all the nonzero samples of $y_2[n]$."
   ]
  },
  {
   "cell_type": "code",
   "execution_count": 48,
   "metadata": {
    "scrolled": false
   },
   "outputs": [
    {
     "data": {
      "image/png": "[encoded data removed]",
      "text/plain": [
       "<Figure size 432x288 with 1 Axes>"
      ]
     },
     "metadata": {
      "needs_background": "light"
     },
     "output_type": "display_data"
    }
   ],
   "source": [
    "# Use x2 above because it fits the need.\n",
    "ny2 = np.arange(-5,6)\n",
    "y2 = signal.lfilter(h2, [1.0], x2)\n",
    "plt.stem(ny2,y2)\n",
    "plt.xlabel(\"n (samples)\")\n",
    "plt.ylabel(\"$x[n] * h[n]$\")\n",
    "plt.title(\"Convolution using lfilter() when h is advanced by 5\")\n",
    "plt.show()"
   ]
  }
 ],
 "metadata": {
  "kernelspec": {
   "display_name": "Python 3 (ipykernel)",
   "language": "python",
   "name": "python3"
  },
  "language_info": {
   "codemirror_mode": {
    "name": "ipython",
    "version": 3
   },
   "file_extension": ".py",
   "mimetype": "text/x-python",
   "name": "python",
   "nbconvert_exporter": "python",
   "pygments_lexer": "ipython3",
   "version": "3.7.13"
  }
 },
 "nbformat": 4,
 "nbformat_minor": 2
}

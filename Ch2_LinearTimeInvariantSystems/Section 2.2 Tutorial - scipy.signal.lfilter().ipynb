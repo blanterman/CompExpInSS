{
 "cells": [
  {
   "cell_type": "markdown",
   "metadata": {},
   "source": [
    "# Section 2.2 Tutorial - scipy.signal.lfilter()"
   ]
  },
  {
   "cell_type": "markdown",
   "metadata": {},
   "source": [
    "The scipy.signal.lfilter() function computes the output of a causal, LTI system for a given input when the system is specified by a linear constant-coefficient difference equation (See S&S 2nd Ed 2.4). Specifically, consider an LTI system satisfying the difference equation\n",
    "\n",
    "<center>$\\displaystyle\\sum_{k=0}^{K} a_ky[n-k] = \\displaystyle\\sum_{m=0}^{M} b_mx[n-m]$,</center>\n",
    "\n",
    "where $x[n]$ is the system input and $y[n]$ is the system output. If x is a numpy array containing the input $x[n]$ on the interval $n_x \\le n \\le n_x + N_x - 1$ and the arrays a and b contain the coefficients $a_k$ and $b_m$, then scipy.signal.lfilter(b,a,x) returns the output of the causal LTI system satisfying\n",
    "\n",
    "<center>$\\displaystyle\\sum_{k=0}^{K} a(k+1)y[n-k] = \\displaystyle\\sum_{m=0}^{M} b(m+1)x[n-m]$.</center>\n",
    "\n",
    "Note that $a(k+1)=a_k$ and $b(m+1) = b_m$, since scipy.signal.lfilter() requires that all vector indices begin at one. For example, to specify the system described by the difference equation $y[n] + 2y[n-1]=x[n] - 3x[n-1]$, you would define these vectors as a=[1, 2] and b=[1, -3].\n",
    "\n",
    "The output array y returned by scipy.signal.lfilter() contains sample of $y[n]$ on the same interval as the samples in x, i.e., $n_x \\le n \\le n_x+N_x-1$, so that both x and y contain $N_x$ samples. Note, however, that scipy.signal.lfilter() needs $x[n]$ for $n_x - M \\le n \\le n_x-1$ and $y[n]$ for $n_x - K \\le n \\le n_x - 1$ in order to compute the first output value $y[n_x]$. The function scipy.signal.lfilter() will default these values to zero if they are not given (see the scipy.signal.lfilter documentation)."
   ]
  },
  {
   "cell_type": "code",
   "execution_count": 2,
   "metadata": {},
   "outputs": [],
   "source": [
    "import numpy as np\n",
    "from scipy import signal\n",
    "from matplotlib import pyplot as plt"
   ]
  },
  {
   "cell_type": "markdown",
   "metadata": {},
   "source": [
    "### (a). \n",
    "Define coefficient vectors a1 and b1 to describe the causal LTI system specified by $y[n] = 0.5x[n] + x[n-1] +2x[n-2]$."
   ]
  },
  {
   "cell_type": "code",
   "execution_count": 3,
   "metadata": {},
   "outputs": [],
   "source": [
    "a1 = [1]\n",
    "b1 = [0.5, 1, 2]"
   ]
  },
  {
   "cell_type": "markdown",
   "metadata": {},
   "source": [
    "### (b).\n",
    "Define coefficient vecotrs a2 and b2 to describe the causal LTI system specified by $y[n] = 0.8y[n-1] +2x[n]$."
   ]
  },
  {
   "cell_type": "code",
   "execution_count": 4,
   "metadata": {},
   "outputs": [],
   "source": [
    "a2 = [1, -0.8]\n",
    "b2 = [2]"
   ]
  },
  {
   "cell_type": "markdown",
   "metadata": {},
   "source": [
    "### (c). \n",
    "Define coefficient vectors a3 and b3 to describe the causal LTI system specified by $y[n] - 0.8y[n-1] = 2x[n-1]$."
   ]
  },
  {
   "cell_type": "code",
   "execution_count": 5,
   "metadata": {},
   "outputs": [],
   "source": [
    "a3 = [1, -0.8]\n",
    "b3 = [0, 2]"
   ]
  },
  {
   "cell_type": "markdown",
   "metadata": {},
   "source": [
    "### (d).\n",
    "For each of these three systems, use scipy.signal.lfilter() to compute the response y[n] on the interval $1 \\le n \\le 4$ to the input signal $x[n] = nu[n]$. You should begin by defining the vector $x=[1,2,3,4]$, which contains x[n] on the interval $1 \\le n \\le 4$. The result of using scipy.signal.lfilter() for each system is shown below:\n",
    "\n",
    "\\>> x = [1,2,3,4] \n",
    "\n",
    "\\>> y1 = scipy.signal.lfilter(b1,a1,x)\n",
    "\n",
    "y1 = [0.5, 2.0, 5.5, 9.0]\n",
    "\n",
    "\\>> y2 = scipy.signal.lfilter(b2,a2,x)\n",
    "\n",
    "y2 = [2.0, 5.6, 10.48, 16.384]\n",
    "\n",
    "\\>> y3 = scipy.signal.lfilter(b3,a3,x)\n",
    "\n",
    "y3 = [0, 2.0, 5.6, 10.48]\n"
   ]
  },
  {
   "cell_type": "code",
   "execution_count": 9,
   "metadata": {},
   "outputs": [
    {
     "name": "stdout",
     "output_type": "stream",
     "text": [
      "y1 = [0.5 2.  5.5 9. ]\n",
      "y2 = [ 2.     5.6   10.48  16.384]\n",
      "y3 = [ 0.    2.    5.6  10.48]\n"
     ]
    }
   ],
   "source": [
    "x = [1, 2, 3, 4]\n",
    "y1 = signal.lfilter(b1, a1, x)\n",
    "print(\"y1 = {}\".format(y1))\n",
    "y2 = signal.lfilter(b2, a2, x)\n",
    "print(\"y2 = {}\".format(y2))\n",
    "y3 = signal.lfilter(b3, a3, x)\n",
    "print(\"y3 = {}\".format(y3))"
   ]
  }
 ],
 "metadata": {
  "kernelspec": {
   "display_name": "Python 3 (ipykernel)",
   "language": "python",
   "name": "python3"
  },
  "language_info": {
   "codemirror_mode": {
    "name": "ipython",
    "version": 3
   },
   "file_extension": ".py",
   "mimetype": "text/x-python",
   "name": "python",
   "nbconvert_exporter": "python",
   "pygments_lexer": "ipython3",
   "version": "3.7.11"
  }
 },
 "nbformat": 4,
 "nbformat_minor": 2
}

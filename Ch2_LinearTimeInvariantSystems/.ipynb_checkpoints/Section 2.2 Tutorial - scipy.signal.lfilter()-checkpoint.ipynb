{
 "cells": [
  {
   "cell_type": "markdown",
   "metadata": {},
   "source": [
    "# Section 2.2 Tutorial - scipy.signal.lfilter()"
   ]
  },
  {
   "cell_type": "markdown",
   "metadata": {},
   "source": [
    "The scipy.signal.lfilter() function computes the output of a causal, LTI system for a given input when the system is specified by a linear constant-coefficient difference equation (See S&S 2nd Ed 2.4). Specifically, consider an LTI system satisfying the difference equation\n",
    "\n",
    "<center>$\\displaystyle\\sum_{k=0}^{K} a_ky[n-k] = \\displaystyle\\sum_{m=0}^{M} b_mx[n-m]$,</center>\n",
    "\n",
    "where $x[n]$ is the system input and $y[n]$ is the system output. If x is a numpy array containing the input $x[n]$ on the interval $n_x \\le n \\le n_x + N_x - 1$ and the arrays a and b contain the coefficients $a_k$ and $b_m$, then scipy.signal.lfilter(b,a,x) returns the output of the causal LTI system satisfying\n",
    "\n",
    "<center>$\\displaystyle\\sum_{k=0}^{K} a(k+1)y[n-k] = \\displaystyle\\sum_{m=0}^{M} b(m+1)x[n-m]$.</center>\n",
    "\n",
    "Note that $a(k+1=a_k$ and $b(m+1 = b_m$, since scipy.signal.lfilter() requires that all vector indices begin at one. For example, to specify the system described by the difference equation $y[n] + 2y[n-1]=x[n] - 3x[n-1], you would define these vectors as a=[1, 2] and b=[1, -3].\n",
    "\n",
    "The output array y returned by scipy.signal.lfilter() contains sample of $y[n]$ on the same interval as the samples in x, i.e., $n_x \\le n \\le n_x+N_x-1$, so that both x and y contain $N_x$ samples. Note, however, that scipy.signal.lfilter() needs $x[n]$ for $n_x - M \\le n \\le n_x-1$ and $y[n]$ for $n_x - K \\le n \\le n_x - 1$ in order to compute the first output value $y[n_x]$. The function scipy.signal.lfilter() will default these values to zero if they are not given (see the scipy.signal.lfilter documentation."
   ]
  }
 ],
 "metadata": {
  "kernelspec": {
   "display_name": "Python 3",
   "language": "python",
   "name": "python3"
  },
  "language_info": {
   "codemirror_mode": {
    "name": "ipython",
    "version": 3
   },
   "file_extension": ".py",
   "mimetype": "text/x-python",
   "name": "python",
   "nbconvert_exporter": "python",
   "pygments_lexer": "ipython3",
   "version": "3.7.4"
  }
 },
 "nbformat": 4,
 "nbformat_minor": 2
}

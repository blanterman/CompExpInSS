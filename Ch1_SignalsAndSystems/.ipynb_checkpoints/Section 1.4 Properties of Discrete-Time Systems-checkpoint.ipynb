{
 "cells": [
  {
   "cell_type": "markdown",
   "id": "98a89c50",
   "metadata": {},
   "source": [
    "# Section 1.4"
   ]
  },
  {
   "cell_type": "markdown",
   "id": "16b8b213",
   "metadata": {},
   "source": [
    "## Intermediate Problems"
   ]
  },
  {
   "cell_type": "markdown",
   "id": "ae56e125",
   "metadata": {},
   "source": [
    "For these problems, you will be given a system and a property that the system does not satisfy, but must discover for yourself an input or pair of input signals to base your argument upon. Again, create numpy arrays to represent the inputs and outputs of the system and generate appropriate plots with these arrays. Use your plots to make a clear and concise argument about why the system does not satisfy the specified property."
   ]
  },
  {
   "cell_type": "code",
   "execution_count": 1,
   "id": "e2385834",
   "metadata": {},
   "outputs": [],
   "source": [
    "# Import numpy and pyplot from matplotlib\n",
    "import numpy as np\n",
    "from matplotlib import pyplot as plt"
   ]
  },
  {
   "cell_type": "markdown",
   "id": "12f7b190",
   "metadata": {},
   "source": [
    "### (d)."
   ]
  },
  {
   "cell_type": "markdown",
   "id": "2ed6eb63",
   "metadata": {},
   "source": [
    "(d). The system given in Part (a) is not invertible. The system in part a is $y[n]=\\sin((\\pi/2)x[n])$\n",
    "\n",
    "To solve this we must understand that an invertible system is one that creates distinct outputs for distinct inputs. So if I can find two distinct inputs that give the same output, this proves that the system is not invertible. Since the system in part a is periodic, there are an infinite number of inputs that produce the same output.\n",
    "\n",
    "sin is periodic with a period of 2*pi\n",
    "\n"
   ]
  },
  {
   "cell_type": "code",
   "execution_count": 3,
   "id": "d88bd9b5",
   "metadata": {},
   "outputs": [
    {
     "data": {
      "image/png": "[encoded data removed]",
      "text/plain": [
       "<Figure size 432x288 with 1 Axes>"
      ]
     },
     "metadata": {
      "needs_background": "light"
     },
     "output_type": "display_data"
    }
   ],
   "source": [
    "n = np.arange(-10, 11)\n",
    "xn = n\n",
    "yn = np.sin(np.pi / 2 * xn)\n",
    "\n",
    "plt.stem(xn, yn)\n",
    "plt.show()"
   ]
  },
  {
   "cell_type": "markdown",
   "id": "a98d7995",
   "metadata": {},
   "source": [
    "It is easy to see that every even input produces a value of zero so we are going to change x[n] to be 2 * n. Just to drive home that this is definitely not invertible."
   ]
  },
  {
   "cell_type": "code",
   "execution_count": 3,
   "id": "ca3bce5b",
   "metadata": {},
   "outputs": [
    {
     "data": {
      "image/png": "[encoded data removed]",
      "text/plain": [
       "<Figure size 432x288 with 1 Axes>"
      ]
     },
     "metadata": {
      "needs_background": "light"
     },
     "output_type": "display_data"
    }
   ],
   "source": [
    "n = np.arange(-10, 11)\n",
    "xn = 2 * n\n",
    "yn = np.sin(np.pi / 2 * xn)\n",
    "# because of floating point rounding error I am using np.isclose to see if the values are all close to 0. \n",
    "# If they are close to zero then I just set them to zero.\n",
    "yn = [0 if np.isclose(0, val) else val for val in yn]\n",
    "\n",
    "plt.stem(xn, yn)\n",
    "plt.show()"
   ]
  },
  {
   "cell_type": "markdown",
   "id": "f7a61c0d",
   "metadata": {},
   "source": [
    "So this system is not invertible because there is an infinite number of inputs that produce the same output value."
   ]
  },
  {
   "cell_type": "markdown",
   "id": "03c2d8df",
   "metadata": {},
   "source": [
    "## Advanced Problems"
   ]
  },
  {
   "cell_type": "markdown",
   "id": "6a79a1db",
   "metadata": {},
   "source": [
    "For each of the following systems, state whether or not the system is linear, time-invariant, causal, stable, and invertible. For each property you claim the system does not possess, construct a counter-argument using Python to demonstrate how the system violates the property in question."
   ]
  },
  {
   "cell_type": "markdown",
   "id": "239c0f4e",
   "metadata": {},
   "source": [
    "### (e). $y[n] = x^3[n]$"
   ]
  },
  {
   "cell_type": "markdown",
   "id": "e5b05099",
   "metadata": {},
   "source": [
    "This system is time-invariant, Causal, Stable, and Invertible. It is not Linear."
   ]
  },
  {
   "cell_type": "markdown",
   "id": "07f808bb",
   "metadata": {},
   "source": [
    "#### Linearity Counter Example"
   ]
  },
  {
   "cell_type": "markdown",
   "id": "77ca55d3",
   "metadata": {},
   "source": [
    "First, define a first input signal, $x_1[n]$, over some interval and display the output of the system to that input. This output is $y_1[n]$.\n",
    "\n",
    "Second, define a second input signal, $x_2[n]$ over the same interval and display the output of the system to that input. This output is $y_2[n]$.\n",
    "\n",
    "Third, define a third input signal, $x_3[n]=x_1[n]+x_2[n]$ and display the output of the system to that input. This output is $y_3[n]$.\n",
    "\n",
    "Fourth, define a fourth output as a linear combination of the the outputs in the first and second steps, combined in the same way as the inputs were combined to form the third input. i.e $y_4[n]=y_1[n]+y_2[n]$\n",
    "\n",
    "Last, compare $y_3[n]$ to $y_4[n]$. If they are not equal, the system is not linear."
   ]
  },
  {
   "cell_type": "code",
   "execution_count": 31,
   "id": "110d294d",
   "metadata": {},
   "outputs": [
    {
     "data": {
      "image/png": "[encoded data removed]",
      "text/plain": [
       "<Figure size 1152x288 with 2 Axes>"
      ]
     },
     "metadata": {
      "needs_background": "light"
     },
     "output_type": "display_data"
    }
   ],
   "source": [
    "## First\n",
    "# Definition of x1[n]\n",
    "n = np.arange(-5, 6)\n",
    "x1n = np.array([0,0,0,0,1,2,1,0,0,0,0])\n",
    "\n",
    "# Calculating the system response to the input\n",
    "y1n = np.power(x1n, 3)\n",
    "\n",
    "# Plotting input and output\n",
    "plt.figure(figsize=(16,4))\n",
    "plt.subplot(1,2,1)\n",
    "plt.stem(n, x1n)\n",
    "plt.title('x1[n]')\n",
    "plt.subplot(1,2,2)\n",
    "plt.stem(n, y1n)\n",
    "plt.title('y1[n]')\n",
    "plt.show()"
   ]
  },
  {
   "cell_type": "code",
   "execution_count": 32,
   "id": "1d43d625",
   "metadata": {},
   "outputs": [
    {
     "data": {
      "image/png": "[encoded data removed]",
      "text/plain": [
       "<Figure size 1152x288 with 2 Axes>"
      ]
     },
     "metadata": {
      "needs_background": "light"
     },
     "output_type": "display_data"
    }
   ],
   "source": [
    "## Second\n",
    "# Definition of x2[n]. Just an impulse\n",
    "x2n = np.array([0,0,0,0,0,1,0,0,0,0,0])\n",
    "\n",
    "# Calculating the response to the second input\n",
    "y2n = np.power(x2n, 3)\n",
    "\n",
    "# Plotting the second input and the second output\n",
    "plt.figure(figsize=(16,4))\n",
    "plt.subplot(1,2,1)\n",
    "plt.stem(n, x2n)\n",
    "plt.title('x2[n]')\n",
    "plt.subplot(1,2,2)\n",
    "plt.stem(n, y2n)\n",
    "plt.title('y2[n]')\n",
    "plt.show()"
   ]
  },
  {
   "cell_type": "code",
   "execution_count": 33,
   "id": "baef1509",
   "metadata": {},
   "outputs": [
    {
     "data": {
      "image/png": "[encoded data removed]",
      "text/plain": [
       "<Figure size 1152x288 with 2 Axes>"
      ]
     },
     "metadata": {
      "needs_background": "light"
     },
     "output_type": "display_data"
    }
   ],
   "source": [
    "## Third\n",
    "# Defining a third input as a linear combination of other inputs\n",
    "x3n = x1n + x2n\n",
    "\n",
    "# Calculating the Output of the system to this third input\n",
    "y3n = np.power(x3n, 3)\n",
    "\n",
    "# Plotting the third input and the third output\n",
    "plt.figure(figsize=(16,4))\n",
    "plt.subplot(1,2,1)\n",
    "plt.stem(n, x3n)\n",
    "plt.title('x3[n]=x1[n]+x2[n]')\n",
    "plt.subplot(1,2,2)\n",
    "plt.stem(n, y3n)\n",
    "plt.title('y3[n]')\n",
    "plt.show()"
   ]
  },
  {
   "cell_type": "code",
   "execution_count": 8,
   "id": "8238c73f",
   "metadata": {},
   "outputs": [
    {
     "data": {
      "image/png": "[encoded data removed]",
      "text/plain": [
       "<Figure size 432x288 with 1 Axes>"
      ]
     },
     "metadata": {
      "needs_background": "light"
     },
     "output_type": "display_data"
    }
   ],
   "source": [
    "## Fourth\n",
    "# Calculating what the output would be if we combined y1[n] and y2[n] in the same way we combined x1[n] and x2[n] to form x3[n].\n",
    "y4n = y1n + y2n\n",
    "\n",
    "# Plotting the linear combination of outputs\n",
    "plt.stem(n, y4n)\n",
    "plt.title('y4[n]=y1[n]+y2[n]')\n",
    "plt.show()"
   ]
  },
  {
   "cell_type": "markdown",
   "id": "1a748505",
   "metadata": {},
   "source": [
    "Last, comparing $y_3[n]$ to $y_4[n]$, we can see that they are not equal, so $y[n]=x^3[n]$ is NOT linear."
   ]
  },
  {
   "cell_type": "markdown",
   "id": "92f5f74d",
   "metadata": {},
   "source": [
    "### (f). $y[n]=nx[n]$"
   ]
  },
  {
   "cell_type": "markdown",
   "id": "3440f28d",
   "metadata": {},
   "source": [
    "This system is Linear, Causal, and invertible. It is not Time Invariant or stable."
   ]
  },
  {
   "cell_type": "markdown",
   "id": "89434c5e",
   "metadata": {},
   "source": [
    "#### Time Invariance Counter Example"
   ]
  },
  {
   "cell_type": "code",
   "execution_count": 30,
   "id": "3fcaf472",
   "metadata": {},
   "outputs": [
    {
     "data": {
      "image/png": "[encoded data removed]",
      "text/plain": [
       "<Figure size 1152x288 with 2 Axes>"
      ]
     },
     "metadata": {
      "needs_background": "light"
     },
     "output_type": "display_data"
    }
   ],
   "source": [
    "# Define a signal on the interval -3 to 3\n",
    "n = np.arange(-3, 4)\n",
    "xn = np.array([0,0,0,1,0,0,0]) # Impulse\n",
    "\n",
    "# Now define a timeshifted version of the same signal\n",
    "xn_time_shifted = np.array([0,0,0,0,1,0,0])\n",
    "\n",
    "# Plot the signal and the time shifted version of the signal\n",
    "plt.figure(figsize=(16,4))\n",
    "plt.subplot(1,2,1)\n",
    "plt.stem(n, xn)\n",
    "plt.title('x[n]')\n",
    "plt.subplot(1,2,2)\n",
    "plt.stem(n, xn_time_shifted)\n",
    "plt.title('x[n-1]')\n",
    "plt.show()"
   ]
  },
  {
   "cell_type": "code",
   "execution_count": 24,
   "id": "def21b8e",
   "metadata": {
    "scrolled": true
   },
   "outputs": [
    {
     "data": {
      "image/png": "[encoded data removed]",
      "text/plain": [
       "<Figure size 432x288 with 1 Axes>"
      ]
     },
     "metadata": {
      "needs_background": "light"
     },
     "output_type": "display_data"
    }
   ],
   "source": [
    "# Compute the response of the system to the signal\n",
    "yn = n * xn\n",
    "\n",
    "# Plot the system response to the signal\n",
    "plt.stem(n, yn)\n",
    "plt.title('y[n]=nx[n]')\n",
    "plt.show()"
   ]
  },
  {
   "cell_type": "markdown",
   "id": "d1031426",
   "metadata": {},
   "source": [
    "Now I have a signal $x[n]$ and a time shifted signal $x[n-1]$.\n",
    "I also have a system's response to the non time shifted input $y[n]=nx[n]$. \n",
    "Next I need to show that the output to the time shifted input is different from the time shifted output to the standard input."
   ]
  },
  {
   "cell_type": "code",
   "execution_count": 26,
   "id": "3db2724d",
   "metadata": {},
   "outputs": [
    {
     "data": {
      "image/png": "[encoded data removed]",
      "text/plain": [
       "<Figure size 1152x288 with 2 Axes>"
      ]
     },
     "metadata": {
      "needs_background": "light"
     },
     "output_type": "display_data"
    }
   ],
   "source": [
    "# Shift the output to the non timeshifted input\n",
    "yn_time_shifted = np.concatenate((np.zeros(1), yn[:-1]))\n",
    "\n",
    "# Compute the output response to the time shifted input. If the signal were TI, \n",
    "# this would equal the time shifted output to the non time shifted input.\n",
    "yn_of_ts_input = n * xn_time_shifted\n",
    "\n",
    "# Plot the two outputs that should be equal\n",
    "plt.figure(figsize=(16,4))\n",
    "plt.subplot(1,2,1)\n",
    "plt.stem(n, yn_time_shifted)\n",
    "plt.title('y(x[n-1])=y[n]=nx[n-1]')\n",
    "plt.subplot(1,2,2)\n",
    "plt.stem(n, yn_of_ts_input)\n",
    "plt.title('y[n-1]=(n-1)x[n-1]')\n",
    "plt.show()"
   ]
  },
  {
   "cell_type": "markdown",
   "id": "0c4f0f60",
   "metadata": {},
   "source": [
    "If the system were time invariant, then the two responses above would be equal. Since they are not, this is a counter example to time invariance for this system."
   ]
  },
  {
   "cell_type": "markdown",
   "id": "16e48ef1",
   "metadata": {},
   "source": [
    "#### Stability Counter Example"
   ]
  },
  {
   "cell_type": "markdown",
   "id": "896231de",
   "metadata": {},
   "source": [
    "To show that the system $y[n]=nx[n]$ is unstable I will use the input $x[n]=u[n]$. It should be cleare that $u[n]$ is bounded by the values 0 and 1. But it can be seen below (and by inspection) that the system will achieve ever increasing output values for ever increasing n."
   ]
  },
  {
   "cell_type": "code",
   "execution_count": 29,
   "id": "b731f4b7",
   "metadata": {},
   "outputs": [
    {
     "data": {
      "image/png": "[encoded data removed]",
      "text/plain": [
       "<Figure size 1152x288 with 2 Axes>"
      ]
     },
     "metadata": {
      "needs_background": "light"
     },
     "output_type": "display_data"
    }
   ],
   "source": [
    "# Define the step function on a sufficiently large interval to see nature of system response\n",
    "n = np.arange(-3, 101)\n",
    "xn = np.array([1 if val >= 0 else 0 for val in n]) # u[n] step function\n",
    "\n",
    "# Calculate the output to the bounded input system\n",
    "yn = n * xn\n",
    "\n",
    "# Plot the input signal and the output signal and see how the output increases with increasing n.\n",
    "plt.figure(figsize=(16,4))\n",
    "plt.subplot(1,2,1)\n",
    "plt.stem(n, xn)\n",
    "plt.title('x[n]=u[n]')\n",
    "plt.subplot(1,2,2)\n",
    "plt.stem(n, yn)\n",
    "plt.title('y[n]=nu[n]')\n",
    "plt.show()"
   ]
  },
  {
   "cell_type": "markdown",
   "id": "b6ba46bf",
   "metadata": {},
   "source": [
    "The output of $y[n]=nu[n]$ will grow with increasing n even though $u[n]$ is bounded at 1 with increasing n. So this system is not stable."
   ]
  },
  {
   "cell_type": "markdown",
   "id": "84996f65",
   "metadata": {},
   "source": [
    "### (g). $y[n]=x[2n]$"
   ]
  },
  {
   "cell_type": "markdown",
   "id": "3a6a08e7",
   "metadata": {},
   "source": [
    "This system is Linear and stable. It is not Time-invariant, causal or invertible"
   ]
  },
  {
   "cell_type": "markdown",
   "id": "5eba5f26",
   "metadata": {},
   "source": [
    "#### Time-Invariance Counter Example"
   ]
  },
  {
   "cell_type": "code",
   "execution_count": 5,
   "id": "e2101c4c",
   "metadata": {},
   "outputs": [
    {
     "data": {
      "image/png": "[encoded data removed]",
      "text/plain": [
       "<Figure size 1152x288 with 2 Axes>"
      ]
     },
     "metadata": {
      "needs_background": "light"
     },
     "output_type": "display_data"
    }
   ],
   "source": [
    "# n for the input will range from -3 to 3\n",
    "n = np.arange(-3,4)\n",
    "\n",
    "# x[n] is created \n",
    "xn = np.array([0,0,0,1,2,1,0])\n",
    "\n",
    "# x[n-1] is created\n",
    "xn_ts = np.array([0,0,0,0,1,2,1])\n",
    "\n",
    "# Plotting x[n] and x[n-1]\n",
    "plt.figure(figsize=(16,4))\n",
    "plt.subplot(1,2,1)\n",
    "plt.stem(n, xn)\n",
    "plt.title('x[n]')\n",
    "plt.subplot(1,2,2)\n",
    "plt.stem(n, xn_ts)\n",
    "plt.title('x[n-1]')\n",
    "plt.show()"
   ]
  },
  {
   "cell_type": "code",
   "execution_count": 6,
   "id": "ce526f53",
   "metadata": {},
   "outputs": [
    {
     "data": {
      "image/png": "[encoded data removed]",
      "text/plain": [
       "<Figure size 1152x288 with 2 Axes>"
      ]
     },
     "metadata": {
      "needs_background": "light"
     },
     "output_type": "display_data"
    }
   ],
   "source": [
    "# Padding x[n] so I can take every other value and still end up with a signal of the same size\n",
    "# This pads x[n] with three zeros on either side\n",
    "xn_padded = np.pad(xn, (3,3))\n",
    "\n",
    "# Calculating y[n]=x[2n]\n",
    "yn = xn_padded[::2]\n",
    "# Time shifting the output to get y[n-1]\n",
    "yn_ts = np.concatenate((np.zeros(1),yn[:-1]))\n",
    "\n",
    "#Plotting y[n] and y[n-1]\n",
    "plt.figure(figsize=(16,4))\n",
    "plt.subplot(1,2,1)\n",
    "plt.stem(n, yn)\n",
    "plt.title('y[n]')\n",
    "plt.subplot(1,2,2)\n",
    "plt.stem(n, yn_ts)\n",
    "plt.title('y[n-1]')\n",
    "plt.show()"
   ]
  },
  {
   "cell_type": "code",
   "execution_count": 7,
   "id": "6ce2b3f3",
   "metadata": {},
   "outputs": [
    {
     "data": {
      "image/png": "[encoded data removed]",
      "text/plain": [
       "<Figure size 1152x288 with 1 Axes>"
      ]
     },
     "metadata": {
      "needs_background": "light"
     },
     "output_type": "display_data"
    }
   ],
   "source": [
    "# Padding the time shifted input x[n-1]\n",
    "xn_ts_padded = np.pad(xn_ts, (3,3))\n",
    "# Calculating the output using x[n-1]\n",
    "yn_xn_ts = xn_ts_padded[::2]\n",
    "\n",
    "# plotting the output using the time shifted input\n",
    "plt.figure(figsize=(16,4))\n",
    "plt.stem(n, yn_xn_ts)\n",
    "plt.title('y(x[n-1])')\n",
    "plt.show()"
   ]
  },
  {
   "cell_type": "markdown",
   "id": "5ff9d750",
   "metadata": {},
   "source": [
    "If $y[n]$ were Time Invariant, then $y[n-1]$ would be equal to $y(x[n-1])$. Since they are not equal, the system is not time invariant."
   ]
  },
  {
   "cell_type": "markdown",
   "id": "a7f0957a",
   "metadata": {},
   "source": [
    "#### Causality Counter Example"
   ]
  },
  {
   "cell_type": "markdown",
   "id": "145300b6",
   "metadata": {},
   "source": [
    "This can be shown using any $x[n]$  and providing an n value for $y[n]$ that is greater than 0.\n",
    "\n",
    "For $y[n]=x[2n]$, say $n=1$\n",
    "\n",
    "$y[1]=x[2*1]$\n",
    "\n",
    "$y[1]=x[2]$\n",
    "\n",
    "So you can see that the system at time $n=1$ depends on the input at time $n=2$, which is a future value of the input. So $y[n]$ is not causal."
   ]
  },
  {
   "cell_type": "markdown",
   "id": "189329d0",
   "metadata": {},
   "source": [
    "#### Invertibility Counter Example"
   ]
  },
  {
   "cell_type": "markdown",
   "id": "41cc1afe",
   "metadata": {},
   "source": [
    "The example above for Time-Invariance also works to show that $y[n]$ is not invertible. You can see that all the odd values of the input do not correspond to output values. So, there is no way to recover them once $y[n]$ is computed. So the system is not invertible."
   ]
  }
 ],
 "metadata": {
  "kernelspec": {
   "display_name": "Python 3",
   "language": "python",
   "name": "python3"
  },
  "language_info": {
   "codemirror_mode": {
    "name": "ipython",
    "version": 3
   },
   "file_extension": ".py",
   "mimetype": "text/x-python",
   "name": "python",
   "nbconvert_exporter": "python",
   "pygments_lexer": "ipython3",
   "version": "3.8.8"
  }
 },
 "nbformat": 4,
 "nbformat_minor": 5
}

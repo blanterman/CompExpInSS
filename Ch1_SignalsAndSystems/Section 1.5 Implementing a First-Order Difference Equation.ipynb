{
 "cells": [
  {
   "cell_type": "markdown",
   "id": "b058b7c8",
   "metadata": {},
   "source": [
    "# Section 1.5"
   ]
  },
  {
   "cell_type": "markdown",
   "id": "63d8b659",
   "metadata": {},
   "source": [
    "## Advanced Problems"
   ]
  },
  {
   "cell_type": "markdown",
   "id": "2306bfb1",
   "metadata": {},
   "source": [
    "### Equation (1.6) \n",
    "\n",
    "$y[n]=ay[n-1]+x[n]$"
   ]
  },
  {
   "cell_type": "markdown",
   "id": "32f4f6be",
   "metadata": {},
   "source": [
    "### (a)."
   ]
  },
  {
   "cell_type": "markdown",
   "id": "4f6472e5",
   "metadata": {},
   "source": [
    "Write a function y=diffeqn(a,x,yn1) which computes the output y[n] of the causal sustem determined by Eq. (1.6). The input vector x contains $x[n]$ for $0 \\leq n \\leq N-1$ and yn1 supplies the value of y[-1]. The output vector y contains $y[n]$ for $0 \\leq n \\leq N-1$. The first line of your function should be \n",
    "\n",
    "def diffeqn(a,x,yn1):\n",
    "\n",
    "Hint: Note that y[-1] is necessary for computing y[0], which is the first step of the autoregression. Use a for loop in your function to compute y[n] for successively larger values of n, starting with $n=0$."
   ]
  },
  {
   "cell_type": "code",
   "execution_count": 1,
   "id": "88886b18",
   "metadata": {},
   "outputs": [],
   "source": [
    "import numpy as np\n",
    "from matplotlib import pyplot as plt"
   ]
  },
  {
   "cell_type": "code",
   "execution_count": 2,
   "id": "9bf88a4f",
   "metadata": {},
   "outputs": [],
   "source": [
    "# This function implements the first order difference equation\n",
    "# This is also called the first order autoregression equation\n",
    "# y[n]=ay[n-1]+x[n]\n",
    "# @parameter a multiplier \n",
    "# @parameter x input sequence\n",
    "# @parameter yn1 boundary condition for calculating first value of y[n]\n",
    "# @return y output sequence as numpy array\n",
    "def diffeqn(a,x,yn1):\n",
    "    y = []    # Ouput sequence starts out empty\n",
    "    for val in x:    # Iterate over the input sequence\n",
    "        yn = val + a * yn1    # Calculate the current value of output sequence \n",
    "        y.append(yn)    # Append current value of output sequence to output sequence\n",
    "        yn1 = yn    # Update previous output with current output for next iteration\n",
    "    return np.array(y)    # Return the output sequence as a numpy array"
   ]
  },
  {
   "cell_type": "markdown",
   "id": "cd6253ea",
   "metadata": {},
   "source": [
    "### (b)."
   ]
  },
  {
   "cell_type": "markdown",
   "id": "6e0be5f4",
   "metadata": {},
   "source": [
    "Assume that a=1 y[-1]=0, and that we are only interested in the ouput over the interval $0 \\leq n \\leq 30$. Use your function to compute the response due to $x_1[n]= \\delta [n]$ and $x_2[n]=u[n]$, the unit impuse and unit step, respectively. Plot each response using stem."
   ]
  },
  {
   "cell_type": "code",
   "execution_count": 11,
   "id": "7b5761b7",
   "metadata": {},
   "outputs": [
    {
     "data": {
      "image/png": "[encoded data removed]",
      "text/plain": [
       "<Figure size 1152x288 with 2 Axes>"
      ]
     },
     "metadata": {
      "needs_background": "light"
     },
     "output_type": "display_data"
    }
   ],
   "source": [
    "# n ranges from 0 to 30\n",
    "n = np.arange(0,31)\n",
    "\n",
    "# Input sequence is the unit impulse\n",
    "xn = np.array([1 if val == 0 else 0 for val in n])\n",
    "a = 1     # Multiplier is 1\n",
    "yn1 = 0     # Boundary Condition is 0\n",
    "yn = diffeqn(a, xn, yn1)     # Use the function above to calculate the output sequence\n",
    "\n",
    "# Plot the input sequence and the output sequence\n",
    "plt.figure(figsize=(16,4))\n",
    "plt.subplot(1,2,1)\n",
    "plt.stem(n, xn)\n",
    "plt.title('$x_1[n] = \\delta [n]$')\n",
    "plt.subplot(1,2,2)\n",
    "plt.stem(n, yn)\n",
    "plt.title('$y[n] = ay[n-1] + \\delta [n]$, $a=1, y[-1]=0$')\n",
    "plt.show()"
   ]
  },
  {
   "cell_type": "code",
   "execution_count": 10,
   "id": "1701f35d",
   "metadata": {},
   "outputs": [
    {
     "data": {
      "image/png": "[encoded data removed]",
      "text/plain": [
       "<Figure size 1152x288 with 2 Axes>"
      ]
     },
     "metadata": {
      "needs_background": "light"
     },
     "output_type": "display_data"
    }
   ],
   "source": [
    "# n defined over 0 to 30\n",
    "n = np.arange(0,31)\n",
    "# x[n] is the unit step function\n",
    "xn = np.array([1 if val >= 0 else 0 for val in n])\n",
    "\n",
    "a = 1    # multiplier is 1\n",
    "yn1 = 0    # Boundary condition \n",
    "\n",
    "# Calculate the oupt secquence using the function above\n",
    "yn = diffeqn(a, xn, yn1)\n",
    "\n",
    "# Plot the input and the output\n",
    "plt.figure(figsize=(16,4))\n",
    "plt.subplot(1,2,1)\n",
    "plt.stem(n, xn)\n",
    "plt.title('$x_2[n]=u[n]$')\n",
    "plt.subplot(1,2,2)\n",
    "plt.stem(n, yn)\n",
    "plt.title('$y[n] = a y[n-1] + u[n], a = 1, y[-1]=0$')\n",
    "plt.show()"
   ]
  },
  {
   "cell_type": "markdown",
   "id": "36b4e78a",
   "metadata": {},
   "source": [
    "### (c)."
   ]
  },
  {
   "cell_type": "markdown",
   "id": "f6e2af01",
   "metadata": {},
   "source": [
    "Assume again that a=1, but that y[-1]=-1. Use your function to compute y[n] over $0 \\leq n \\leq 30$ when the inputs are $x_1[n] = u[n]$ and $x_2[n] = 2u[n]$. Define the outputs produced by the two signals to be $y_1[n]$ and $y_2[n]$, respectively. Use stem to display bot outputs. Use stem to plot $(2y_1[n] - y_2[n])$. Give that Eq. (1.6) is a linear difference equation, why isn't this difference identically zero?"
   ]
  },
  {
   "cell_type": "code",
   "execution_count": 18,
   "id": "4f5bba7e",
   "metadata": {},
   "outputs": [
    {
     "data": {
      "image/png": "[encoded data removed]",
      "text/plain": [
       "<Figure size 1152x288 with 2 Axes>"
      ]
     },
     "metadata": {
      "needs_background": "light"
     },
     "output_type": "display_data"
    }
   ],
   "source": [
    "# Define n in the range 0 to 30\n",
    "n = np.arange(0,31)\n",
    "# input 1 is the unit step\n",
    "x1n = np.array([1 if val >= 0 else 0 for val in n])\n",
    "# input 2 is 2 times the unit step\n",
    "x2n = 2 * x1n\n",
    "\n",
    "# Plot the input sequences\n",
    "plt.figure(figsize=(16,4))\n",
    "plt.subplot(1,2,1)\n",
    "plt.stem(n, x1n)\n",
    "plt.title('$x_1[n]=u[n]$')\n",
    "plt.ylim([-0.1,2.1])\n",
    "plt.subplot(1,2,2)\n",
    "plt.stem(n, x2n)\n",
    "plt.title('$x_2[n]=2u[n]$')\n",
    "plt.show()"
   ]
  },
  {
   "cell_type": "code",
   "execution_count": 47,
   "id": "f79da3d6",
   "metadata": {},
   "outputs": [
    {
     "data": {
      "image/png": "[encoded data removed]",
      "text/plain": [
       "<Figure size 1152x288 with 2 Axes>"
      ]
     },
     "metadata": {
      "needs_background": "light"
     },
     "output_type": "display_data"
    }
   ],
   "source": [
    "# define the parameters and boundary conditions\n",
    "a = 1\n",
    "yn1 = -1\n",
    "\n",
    "# Calculate the two outputs of the difference equation for the two inputs using the above function\n",
    "y1n = diffeqn(a,x1n,yn1)\n",
    "y2n = diffeqn(a,x2n,yn1)\n",
    "\n",
    "# Plot the two outputs\n",
    "# print(y1n, y2n)\n",
    "plt.figure(figsize=(16,4))\n",
    "plt.subplot(1,2,1)\n",
    "plt.stem(n,y1n)\n",
    "plt.title('$y_1[n]=ay_1[n-1]+u[n], a=1, y[-1]=-1$')\n",
    "plt.subplot(1,2,2)\n",
    "plt.stem(n,y2n)\n",
    "plt.title('$y_2[n]=ay_2[n-1]+2u[n], a=1, y[-1]=-1$')\n",
    "plt.show()"
   ]
  },
  {
   "cell_type": "code",
   "execution_count": 49,
   "id": "249a728b",
   "metadata": {},
   "outputs": [
    {
     "data": {
      "image/png": "[encoded data removed]",
      "text/plain": [
       "<Figure size 576x288 with 1 Axes>"
      ]
     },
     "metadata": {
      "needs_background": "light"
     },
     "output_type": "display_data"
    }
   ],
   "source": [
    "# Subtracting y2n from 2*y1n\n",
    "y3n = 2*y1n - y2n\n",
    "#print(y3n)\n",
    "\n",
    "# Plotting the results\n",
    "plt.figure(figsize=(8,4))\n",
    "plt.stem(n,y3n)\n",
    "plt.title('$(2y_1[n]-y_2[n]$')\n",
    "plt.show()"
   ]
  },
  {
   "cell_type": "markdown",
   "id": "08492ca6",
   "metadata": {},
   "source": [
    "Why is this not identically zero?\n",
    "\n",
    "I have done some working out and I conjecture (I don't want to do the proof, but a proof by induction might work?) that:\n",
    "\n",
    "$(2y_1[n] - y_2[n]) = a^n y[-1]$ for equation (1.6)\n",
    "\n",
    "In this case we have $a=1$ and $y[-1] = -1$,\n",
    "\n",
    "Therefore,\n",
    "\n",
    "$(2y_1[n] - y_2[n]) = 1^n (-1) = -1$ for all values of n.\n",
    "\n",
    "There is still the fact that equation (1.6) is a linear equation. It is linear, but the system is not linear. The above example is a counter example to Linearity of the system. We can also show that the system is not linear by doing the math:\n",
    "\n",
    "$y[n] = ay[n-1]+ x[n]$\n",
    "\n",
    "Define inputs $x_1[n]$ and $x_2[n]$, and scalars $\\alpha$ and $\\beta$,\n",
    "\n",
    "$y_1[n] = a y_1[n-1] + x_1[n]$\n",
    "\n",
    "$y_2[n] = a y_2[n-1] + x_2[n]$\n",
    "\n",
    "Then define a third input as a linear combination of the the other two inputs.\n",
    "\n",
    "$x_3[n] = \\alpha x_1[n] + \\beta x_2[n]$\n",
    "\n",
    "$y_3[n] = a y_3[n-1] + x_3[n]$\n",
    "\n",
    "$y_3[n] = a y_3[n-1] + \\alpha x_1[n] + \\beta x_2[n]$\n",
    "\n",
    "This is not equal to $\\alpha y_1[n] + \\beta y_2[n]$, so the system is not linear, even though the equation itself is linear."
   ]
  },
  {
   "cell_type": "markdown",
   "id": "a6c506fb",
   "metadata": {},
   "source": [
    "### (d). "
   ]
  },
  {
   "cell_type": "markdown",
   "id": "d4686660",
   "metadata": {},
   "source": [
    "The causal systems described by Eq. (1.6) are BIBO (bounded-input bounded-output) stable whenever $|a| < 1$. A property of these stable systems is that the effect of the initial condition becomes insignificant for sufficiently large n. Assume $a=1/2$\n",
    "and that x contains $x[n]=u[n]$ for $0 \\leq n \\leq 30$. Assuming both $y[-1]=0$ and $y[-1]= 1/2$, compute the two output signals $y[n]$ for $0 \\leq n \\leq 30$. Use stem to display both responses. How do they differ?"
   ]
  },
  {
   "cell_type": "code",
   "execution_count": 17,
   "id": "b60355d2",
   "metadata": {
    "scrolled": true
   },
   "outputs": [
    {
     "data": {
      "image/png": "[encoded data removed]",
      "text/plain": [
       "<Figure size 1152x288 with 2 Axes>"
      ]
     },
     "metadata": {
      "needs_background": "light"
     },
     "output_type": "display_data"
    }
   ],
   "source": [
    "# n ranges from 0 to 30\n",
    "n = np.arange(0, 31)\n",
    "# x[n] = u[n]\n",
    "xn = np.array([1 if val >= 0 else 0 for val in n])\n",
    "# Setting the multiplier and initial conditions\n",
    "a = 1./2. # This makes the system stable\n",
    "yn1_1 = 0.\n",
    "yn1_2 = 1./2.\n",
    "\n",
    "y1n = diffeqn(a, xn, yn1_1)\n",
    "y2n = diffeqn(a, xn, yn1_2)\n",
    "plt.figure(figsize=(16,4))\n",
    "plt.subplot(1,2,1)\n",
    "plt.stem(n,y1n)\n",
    "plt.subplot(1,2,2)\n",
    "plt.stem(n,y2n)\n",
    "plt.show()"
   ]
  },
  {
   "cell_type": "code",
   "execution_count": 19,
   "id": "9fb981e7",
   "metadata": {},
   "outputs": [
    {
     "name": "stdout",
     "output_type": "stream",
     "text": [
      "[2.50000000e-01 1.25000000e-01 6.25000000e-02 3.12500000e-02\n",
      " 1.56250000e-02 7.81250000e-03 3.90625000e-03 1.95312500e-03\n",
      " 9.76562500e-04 4.88281250e-04 2.44140625e-04 1.22070312e-04\n",
      " 6.10351562e-05 3.05175781e-05 1.52587891e-05 7.62939453e-06\n",
      " 3.81469727e-06 1.90734863e-06 9.53674316e-07 4.76837158e-07\n",
      " 2.38418579e-07 1.19209290e-07 5.96046448e-08 2.98023224e-08\n",
      " 1.49011612e-08 7.45058060e-09 3.72529030e-09 1.86264515e-09\n",
      " 9.31322575e-10 4.65661287e-10 2.32830644e-10]\n"
     ]
    },
    {
     "data": {
      "image/png": "[encoded data removed]",
      "text/plain": [
       "<Figure size 432x288 with 1 Axes>"
      ]
     },
     "metadata": {
      "needs_background": "light"
     },
     "output_type": "display_data"
    }
   ],
   "source": [
    "y3n = y2n - y1n\n",
    "print(y3n)\n",
    "plt.stem(n, y3n)\n",
    "plt.show()"
   ]
  },
  {
   "cell_type": "markdown",
   "id": "065ac6d8",
   "metadata": {},
   "source": [
    "These plots differ in all of their values, but they are both approaching the same value. In this case they both converge to 2, but the different initial conditions mean that they calculate to different values on the way to 2."
   ]
  }
 ],
 "metadata": {
  "kernelspec": {
   "display_name": "Python 3",
   "language": "python",
   "name": "python3"
  },
  "language_info": {
   "codemirror_mode": {
    "name": "ipython",
    "version": 3
   },
   "file_extension": ".py",
   "mimetype": "text/x-python",
   "name": "python",
   "nbconvert_exporter": "python",
   "pygments_lexer": "ipython3",
   "version": "3.8.8"
  }
 },
 "nbformat": 4,
 "nbformat_minor": 5
}
